{
 "cells": [
  {
   "cell_type": "code",
   "execution_count": 1,
   "metadata": {},
   "outputs": [],
   "source": [
    "import requests\n",
    "import os\n",
    "import json "
   ]
  },
  {
   "cell_type": "code",
   "execution_count": 2,
   "metadata": {},
   "outputs": [],
   "source": [
    "url = \"http://localhost:8080/predict\""
   ]
  },
  {
   "cell_type": "code",
   "execution_count": 5,
   "metadata": {},
   "outputs": [],
   "source": [
    "def load_json_file(folder_path, file_name):\n",
    "    file_path = os.path.join(folder_path, file_name)\n",
    "    with open(file_path, 'r') as file:\n",
    "        data = json.load(file)\n",
    "    return data\n",
    "\n",
    "# path to JSON files\n",
    "folder1_path = os.path.join('test')\n",
    "\n",
    "\n",
    "# Load JSON files from different folders\n",
    "product1 = load_json_file(folder1_path, 'test1.json')\n",
    "product2 = load_json_file(folder1_path, 'test2.json')\n",
    "product3 = load_json_file(folder1_path, 'test3.json')"
   ]
  },
  {
   "cell_type": "code",
   "execution_count": 12,
   "metadata": {},
   "outputs": [
    {
     "data": {
      "text/plain": [
       "{'uniq_id': '0973b37acd0c664e3de26e97e5571454',\n",
       " 'crawl_timestamp': '2016-03-25 22:59:23 +0000',\n",
       " 'product_url': 'http://www.flipkart.com/alisha-solid-women-s-cycling-shorts/p/itmeh2f6sdgah2pq?pid=SRTEH2F6HUZMQ6SJ',\n",
       " 'product_name': \"Alisha Solid Women's Cycling Shorts\",\n",
       " 'product_category_tree': \"[Clothing >> Women's Clothing >> Lingerie, Sleep & Swimwear >> Shorts >> Alisha Shorts >> Alisha Solid Women's Cycling Shorts]\",\n",
       " 'pid': 'SRTEH2F6HUZMQ6SJ',\n",
       " 'retail_price': 699.0,\n",
       " 'discounted_price': 267.0,\n",
       " 'image': '[http://img5a.flixcart.com/image/short/6/2/h/altght-11-alisha-38-original-imaeh2d5uq9thnyg.jpeg]',\n",
       " 'is_FK_Advantage_product': 'False',\n",
       " 'description': \"Key Features of Alisha Solid Women's Cycling Shorts Cotton Lycra Black, Red,Specifications of Alisha Solid Women's Cycling Shorts Shorts Details Number of Contents in Sales Package Pack of 2 Fabric Cotton Lycra Type Cycling Shorts General Details Pattern Solid Ideal For Women's Fabric Care Gentle Machine Wash in Lukewarm Water, Do Not Bleach Additional Details Style Code ALTGHT_11 In the Box 2 shorts\",\n",
       " 'product_rating': 'No rating available',\n",
       " 'overall_rating': 'No rating available',\n",
       " 'brand': 'Alisha',\n",
       " 'product_specifications': [{'key': 'Fabric', 'value': 'Cotton Lycra'},\n",
       "  {'key': 'Type', 'value': 'Cycling Shorts'},\n",
       "  {'key': 'Pattern', 'value': 'Solid'},\n",
       "  {'key': 'Ideal For', 'value': \"Women's\"},\n",
       "  {'value': 'Gentle Machine Wash in Lukewarm Water, Do Not Bleach'},\n",
       "  {'key': 'Style Code', 'value': 'ALTGHT_11'},\n",
       "  {'value': '2 shorts'}]}"
      ]
     },
     "execution_count": 12,
     "metadata": {},
     "output_type": "execute_result"
    }
   ],
   "source": [
    "product1"
   ]
  },
  {
   "cell_type": "code",
   "execution_count": 13,
   "metadata": {},
   "outputs": [
    {
     "name": "stdout",
     "output_type": "stream",
     "text": [
      "<Response [500]>\n"
     ]
    }
   ],
   "source": [
    "response = requests.post(url, json=product1)\n",
    "print(response)"
   ]
  }
 ],
 "metadata": {
  "kernelspec": {
   "display_name": "Python 3",
   "language": "python",
   "name": "python3"
  },
  "language_info": {
   "codemirror_mode": {
    "name": "ipython",
    "version": 3
   },
   "file_extension": ".py",
   "mimetype": "text/x-python",
   "name": "python",
   "nbconvert_exporter": "python",
   "pygments_lexer": "ipython3",
   "version": "3.10.11"
  }
 },
 "nbformat": 4,
 "nbformat_minor": 2
}
