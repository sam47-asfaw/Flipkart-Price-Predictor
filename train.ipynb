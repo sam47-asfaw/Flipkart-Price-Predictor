{
 "cells": [
  {
   "cell_type": "code",
   "execution_count": 1,
   "metadata": {},
   "outputs": [],
   "source": [
    "import pickle\n",
    "\n",
    "import pandas as pd\n",
    "import numpy as np\n",
    "\n",
    "from sklearn.model_selection import train_test_split\n",
    "from sklearn.feature_extraction import DictVectorizer\n",
    "import xgboost as xgb\n",
    "\n",
    "from sklearn.metrics import mean_squared_error\n",
    "from sklearn.metrics import mean_absolute_error\n",
    "from sklearn.metrics import r2_score"
   ]
  },
  {
   "cell_type": "code",
   "execution_count": 2,
   "metadata": {},
   "outputs": [
    {
     "name": "stderr",
     "output_type": "stream",
     "text": [
      "C:\\Users\\hp\\AppData\\Local\\Temp\\ipykernel_13308\\2897923176.py:6: FutureWarning: The default value of regex will change from True to False in a future version. In addition, single character regular expressions will *not* be treated as literal strings when regex=True.\n",
      "  df[col] = df[col].str.lower().str.replace('/','_').str.replace(\">>\",\"_\").str.replace('-','_').str.replace(':','_').str.replace('[','_').str.replace(']','_').str.replace('(','_').str.replace(')','_').str.replace('{','_').str.replace('}','_').str.replace('=>','_')\n"
     ]
    }
   ],
   "source": [
    "df = pd.read_csv(\"flipkart.csv\")\n",
    "\n",
    "strings= ['product_url','product_category_tree','image','product_specifications']\n",
    "\n",
    "for col in strings:\n",
    "    df[col] = df[col].str.lower().str.replace('/','_').str.replace(\">>\",\"_\").str.replace('-','_').str.replace(':','_').str.replace('[','_').str.replace(']','_').str.replace('(','_').str.replace(')','_').str.replace('{','_').str.replace('}','_').str.replace('=>','_')\n",
    "\n",
    "categorical = list(df.select_dtypes(include='O').columns)\n",
    "numerical = list(df.select_dtypes(exclude='O').columns)\n",
    "\n",
    "#fill the null values\n",
    "for col in df[numerical]:\n",
    "    df[col]=df[col].fillna(df[col].mean())\n",
    "\n",
    "for col in df[categorical]:\n",
    "    df[col]=df[col].fillna(df[col].mode()[0])\n"
   ]
  },
  {
   "cell_type": "code",
   "execution_count": 3,
   "metadata": {},
   "outputs": [],
   "source": [
    "categorical = [\n",
    "'pid', 'is_FK_Advantage_product', 'product_rating','overall_rating', 'brand', \n",
    "]\n",
    "numerical= ['discounted_price']"
   ]
  },
  {
   "cell_type": "code",
   "execution_count": 4,
   "metadata": {},
   "outputs": [],
   "source": [
    "\n",
    "df['retail_price'] = np.log1p(df['retail_price'])\n",
    "\n",
    "SEED = 42\n",
    "df_full_train, df_test = train_test_split(df, test_size=0.2, random_state=SEED)\n",
    "\n",
    "df_full_train = df_full_train.reset_index(drop=True)\n",
    "y_full_train = np.log1p(df_full_train['retail_price'].values)\n",
    "\n",
    "df_test = df_test.reset_index(drop=True)\n",
    "y_test = np.log1p(df_test['retail_price'].values)\n",
    "\n",
    "del(df_test['retail_price'])\n",
    "del(df_full_train['retail_price'])\n"
   ]
  },
  {
   "cell_type": "code",
   "execution_count": 5,
   "metadata": {},
   "outputs": [],
   "source": [
    "def model_eval(true, predicted):\n",
    "    mae = mean_absolute_error(true, predicted)\n",
    "    mse = mean_squared_error(true, predicted)\n",
    "    rmse = mean_squared_error(true, predicted,squared=False)\n",
    "    r2 = r2_score(true, predicted)\n",
    "    return mae,mse, rmse, r2"
   ]
  },
  {
   "cell_type": "code",
   "execution_count": 6,
   "metadata": {},
   "outputs": [],
   "source": [
    "opt_params = {\n",
    "'eta': 0.4, \n",
    "'max_depth': 10,\n",
    "'min_child_weight': 2,\n",
    "\n",
    "'objective': 'reg:squarederror',\n",
    "'nthread': 8,\n",
    "\n",
    "'seed': 1,\n",
    "'verbosity': 1,\n",
    "}\n",
    "num_round = 100\n",
    "\n",
    "train_full_dicts = df_full_train[categorical + numerical].to_dict(orient='records')\n",
    "dv = DictVectorizer(sparse=True)\n",
    "X_full_train = dv.fit_transform(train_full_dicts)\n",
    "\n",
    "test_dicts = df_test.to_dict(orient='records')\n",
    "X_test = dv.transform(test_dicts)\n",
    "\n",
    "d_full_train = xgb.DMatrix(X_full_train, label=y_full_train, feature_names= dv.get_feature_names_out().tolist())\n",
    "dtest = xgb.DMatrix(X_test, feature_names= dv.get_feature_names_out().tolist())\n",
    "\n",
    "xgbst = xgb.train(opt_params, d_full_train, num_round)\n",
    "y_pred = xgbst.predict(dtest)"
   ]
  },
  {
   "cell_type": "code",
   "execution_count": 7,
   "metadata": {},
   "outputs": [
    {
     "name": "stdout",
     "output_type": "stream",
     "text": [
      "mae: 0.029598374657155712, mse: 0.0015935023868160305, rmse: 0.03991869720840136, r2: 0.8840154339160801\n"
     ]
    }
   ],
   "source": [
    "mae,mse, rmse, r2  = model_eval(y_test, y_pred)\n",
    "print(f'mae: {mae}, mse: {mse}, rmse: {rmse}, r2: {r2}')"
   ]
  },
  {
   "cell_type": "code",
   "execution_count": 8,
   "metadata": {},
   "outputs": [],
   "source": [
    "output_file = f'model_reg={1.0}.bin'\n",
    "output_file\n",
    "\n",
    "f_out = open(output_file, 'wb')\n",
    "pickle.dump((dv,xgbst), f_out)\n",
    "f_out.close()"
   ]
  }
 ],
 "metadata": {
  "kernelspec": {
   "display_name": "Python 3 (ipykernel)",
   "language": "python",
   "name": "python3"
  },
  "language_info": {
   "codemirror_mode": {
    "name": "ipython",
    "version": 3
   },
   "file_extension": ".py",
   "mimetype": "text/x-python",
   "name": "python",
   "nbconvert_exporter": "python",
   "pygments_lexer": "ipython3",
   "version": "3.10.11"
  }
 },
 "nbformat": 4,
 "nbformat_minor": 2
}
